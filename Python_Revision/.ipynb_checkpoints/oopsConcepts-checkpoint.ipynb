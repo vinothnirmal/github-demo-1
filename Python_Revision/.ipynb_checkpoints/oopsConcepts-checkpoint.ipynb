{
 "cells": [
  {
   "cell_type": "markdown",
   "id": "019455b2-849f-4604-8107-e7c14f3020eb",
   "metadata": {},
   "source": [
    "# OOPS Concepts"
   ]
  },
  {
   "cell_type": "markdown",
   "id": "b24c884b-066d-4660-8ffa-e151e35544e6",
   "metadata": {},
   "source": [
    "## Simple inheritance"
   ]
  },
  {
   "cell_type": "code",
   "execution_count": 8,
   "id": "3dfb74c0-5ec1-4d39-bfa7-967a937879a9",
   "metadata": {},
   "outputs": [
    {
     "name": "stdout",
     "output_type": "stream",
     "text": [
      "Parent class\n"
     ]
    }
   ],
   "source": [
    "class parent:\n",
    "    def fun(self):\n",
    "        print(\"Parent class\")\n",
    "\n",
    "class child(parent):\n",
    "    def fun1(self):\n",
    "        print(\"Child class\")\n",
    "\n",
    "obj = child()\n",
    "obj.fun()"
   ]
  },
  {
   "cell_type": "markdown",
   "id": "d71dc698-99e8-40cb-8efb-607eb6921b54",
   "metadata": {},
   "source": [
    "## Multiple Inheritance"
   ]
  },
  {
   "cell_type": "code",
   "execution_count": 11,
   "id": "a67467cd-deb0-4ee3-a77e-bc9d14b69e32",
   "metadata": {},
   "outputs": [
    {
     "name": "stdout",
     "output_type": "stream",
     "text": [
      "Father class\n",
      "child class\n"
     ]
    }
   ],
   "source": [
    "class father:\n",
    "    def fun1(self):\n",
    "        print(\"Father class\")\n",
    "\n",
    "class mother:\n",
    "    def fun2(self):\n",
    "        print(\"Mother class\")\n",
    "\n",
    "class child(father,mother):\n",
    "    def fun3(self):\n",
    "        print(\"child class\")\n",
    "\n",
    "obj = child()\n",
    "obj.fun1()\n",
    "obj.fun3()"
   ]
  },
  {
   "cell_type": "markdown",
   "id": "bd58e303-ac9a-4749-ae01-bdfe460b6331",
   "metadata": {},
   "source": [
    "## Multilevel Inheritance"
   ]
  },
  {
   "cell_type": "code",
   "execution_count": 18,
   "id": "9b0c8a02-bb4e-4ffe-bf2d-f4df873f6c36",
   "metadata": {},
   "outputs": [
    {
     "name": "stdout",
     "output_type": "stream",
     "text": [
      "Father class\n",
      "Mother class\n",
      "Father class\n"
     ]
    }
   ],
   "source": [
    "class father:\n",
    "    def fun1(self):\n",
    "        print(\"Father class\")\n",
    "\n",
    "class mother(father):\n",
    "    def fun2(self):\n",
    "        print(\"Mother class\")\n",
    "\n",
    "class child(mother):\n",
    "    def fun3(self):\n",
    "        print(\"child class\")\n",
    "\n",
    "obj = child()\n",
    "obj.fun1()\n",
    "obj.fun2()\n",
    "\n",
    "obj1 = mother()\n",
    "obj1.fun1()"
   ]
  },
  {
   "cell_type": "markdown",
   "id": "67d05820-e33d-4bc6-a8c3-2f99e1344b4f",
   "metadata": {},
   "source": [
    "## Polymorphism"
   ]
  },
  {
   "cell_type": "code",
   "execution_count": 20,
   "id": "5908ace7-f020-4b3b-984b-157ac5aa0aec",
   "metadata": {},
   "outputs": [
    {
     "name": "stdout",
     "output_type": "stream",
     "text": [
      "child class\n",
      "Mother class\n",
      "Father class\n"
     ]
    }
   ],
   "source": [
    "class father:\n",
    "    def fun1(self):\n",
    "        print(\"Father class\")\n",
    "\n",
    "class mother(father):\n",
    "    def fun2(self):\n",
    "        print(\"Mother class\")\n",
    "\n",
    "class child(mother):\n",
    "    def fun1(self):\n",
    "        print(\"child class\")\n",
    "\n",
    "obj = child()\n",
    "obj.fun1()\n",
    "obj.fun2()\n",
    "\n",
    "obj1 = mother()\n",
    "obj1.fun1()"
   ]
  },
  {
   "cell_type": "markdown",
   "id": "385f9c8a-5a28-425f-a540-d38b08406445",
   "metadata": {},
   "source": [
    "## Encapsulation"
   ]
  },
  {
   "cell_type": "code",
   "execution_count": 30,
   "id": "e3cc8d69-77f6-4737-af97-a2e4ed1efdad",
   "metadata": {},
   "outputs": [
    {
     "name": "stdout",
     "output_type": "stream",
     "text": [
      "vinoth is of age 36\n"
     ]
    }
   ],
   "source": [
    "class family:\n",
    "    def __init__(self,name,age):\n",
    "        self._name = name  #making the variable has private by adding '_' at the front of variable.\n",
    "        self.__age = age   #making the variable has protected by adding '__' at the front of variable.\n",
    "    def __display(self):   #making method also has private or protected by adding '_'or '__' to the front of the method.\n",
    "        print(obj._name + \" is of age \" + obj._family__age)\n",
    "\n",
    "obj = family(\"vinoth\",\"36\")\n",
    "obj._family__display()\n"
   ]
  },
  {
   "cell_type": "markdown",
   "id": "24bdc126-cbb5-41b1-866c-35905bb293e9",
   "metadata": {},
   "source": [
    "## Abstraction"
   ]
  },
  {
   "cell_type": "code",
   "execution_count": 31,
   "id": "db53ad4f-4c80-4336-84a2-df8bc7b47ceb",
   "metadata": {},
   "outputs": [],
   "source": [
    "from abc import ABC"
   ]
  },
  {
   "cell_type": "code",
   "execution_count": 32,
   "id": "89a8942f-cbca-4811-b5cc-9e0f7272ba7c",
   "metadata": {},
   "outputs": [],
   "source": [
    "class parent(ABC):\n",
    "    def fun(self):\n",
    "        pass"
   ]
  }
 ],
 "metadata": {
  "kernelspec": {
   "display_name": "Python 3 (ipykernel)",
   "language": "python",
   "name": "python3"
  },
  "language_info": {
   "codemirror_mode": {
    "name": "ipython",
    "version": 3
   },
   "file_extension": ".py",
   "mimetype": "text/x-python",
   "name": "python",
   "nbconvert_exporter": "python",
   "pygments_lexer": "ipython3",
   "version": "3.11.6"
  }
 },
 "nbformat": 4,
 "nbformat_minor": 5
}
