{
 "cells": [
  {
   "cell_type": "code",
   "execution_count": 1,
   "id": "5cffc52c-947e-420c-bb3d-7f65c569f82f",
   "metadata": {},
   "outputs": [
    {
     "name": "stdout",
     "output_type": "stream",
     "text": [
      "Hello Tiger\n"
     ]
    }
   ],
   "source": [
    "# Create class in python\n",
    "class sample:\n",
    "    def __init__(self):\n",
    "        pass\n",
    "    def fun_class(self,name):\n",
    "        print(\"Hello \" + name)\n",
    "        \n",
    "obj = sample()\n",
    "obj.fun_class(\"Tiger\")"
   ]
  },
  {
   "cell_type": "code",
   "execution_count": null,
   "id": "958809c0-eb10-4b24-88fe-d4248d297a5d",
   "metadata": {},
   "outputs": [],
   "source": []
  },
  {
   "cell_type": "markdown",
   "id": "c8f2a52b-1f51-4914-8c43-f4015e3a9341",
   "metadata": {},
   "source": [
    "# Class with arguments passed in the instantiate method"
   ]
  },
  {
   "cell_type": "code",
   "execution_count": 6,
   "id": "96925e19-3200-4bf4-b7d1-de8e9cfeec0e",
   "metadata": {},
   "outputs": [
    {
     "name": "stdout",
     "output_type": "stream",
     "text": [
      "Employee Sathya is of age 13\n",
      "Sathya\n"
     ]
    }
   ],
   "source": [
    "class employee:\n",
    "    def __init__(self,name,age):\n",
    "        self.name = name\n",
    "        self.age = age\n",
    "    def empDetails(employe):\n",
    "        print(\"Employee \" + employe.name + \" is of age \" + employe.age)\n",
    "        \n",
    "emp = employee(\"Sathya\",\"13\")\n",
    "emp.empDetails()\n",
    "print(emp.name)"
   ]
  },
  {
   "cell_type": "code",
   "execution_count": 3,
   "id": "50457c29-8a39-4ec7-b59d-3e36b4a743e6",
   "metadata": {},
   "outputs": [
    {
     "name": "stdout",
     "output_type": "stream",
     "text": [
      "['Sakkariavel', 'Jaya', 'Vinoth', 'Vivek', 'Sathya', 'Thanu', 'Sirpiga']\n",
      "Vinoth is of age 36 belongs to family of Sakkaraivel\n",
      "Vivek is of age 33 belongs to family of Sakkaraivel\n",
      "Thanu is of age 3 belongs to family of Vinoth\n",
      "Sirpiga is of age 3 belongs to family of Vinoth\n"
     ]
    }
   ],
   "source": [
    "class family:\n",
    "    family_list = [\"Sakkariavel\",\"Jaya\",\"Vinoth\",\"Vivek\",\"Sathya\",\"Thanu\",\"Sirpiga\"]\n",
    "    print(family_list)\n",
    "    grandfather = \"Sakkaraivel\"\n",
    "    father = \"Vinoth\"\n",
    "    def __init__(self):\n",
    "        pass\n",
    "    def gfamilymembers(self,name,age):\n",
    "        for i in self.family_list:\n",
    "            if(i is name):\n",
    "                print(name + \" is of age \" + age + \" belongs to family of \" + self.grandfather)\n",
    "    def ffamilymembers(self,name,age):\n",
    "        print(name + \" is of age \" + age + \" belongs to family of \" + self.father)\n",
    "\n",
    "gfam_obj = family()\n",
    "gfam_obj.gfamilymembers(\"Vinoth\", \"36\")\n",
    "gfam_obj.gfamilymembers(\"Vivek\", \"33\")\n",
    "\n",
    "ffam_obj = family()\n",
    "ffam_obj.ffamilymembers(\"Thanu\",\"3\")\n",
    "ffam_obj.ffamilymembers(\"Sirpiga\",\"3\")"
   ]
  }
 ],
 "metadata": {
  "kernelspec": {
   "display_name": "Python 3 (ipykernel)",
   "language": "python",
   "name": "python3"
  },
  "language_info": {
   "codemirror_mode": {
    "name": "ipython",
    "version": 3
   },
   "file_extension": ".py",
   "mimetype": "text/x-python",
   "name": "python",
   "nbconvert_exporter": "python",
   "pygments_lexer": "ipython3",
   "version": "3.11.6"
  }
 },
 "nbformat": 4,
 "nbformat_minor": 5
}
