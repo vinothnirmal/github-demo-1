{
 "cells": [
  {
   "cell_type": "markdown",
   "id": "8b1a3713-73b9-4af6-a203-ec72726a9a53",
   "metadata": {},
   "source": [
    "# File Handling"
   ]
  },
  {
   "cell_type": "code",
   "execution_count": 4,
   "id": "57bdd645-1df6-4d88-86de-9e35dfce252d",
   "metadata": {},
   "outputs": [],
   "source": [
    "import os"
   ]
  },
  {
   "cell_type": "markdown",
   "id": "e71ff6f5-64d2-419a-9f74-c579d8c6d63c",
   "metadata": {
    "jp-MarkdownHeadingCollapsed": true
   },
   "source": [
    "## Read file"
   ]
  },
  {
   "cell_type": "code",
   "execution_count": 16,
   "id": "4eb98181-f21b-4a9e-8164-fc71004d87d7",
   "metadata": {},
   "outputs": [
    {
     "name": "stdout",
     "output_type": "stream",
     "text": [
      "Hi . I am here. and tryin got learn python , Databricks , delta lake , Apache airflow, yaml , Helm chart , Azure kubernetees cluster , so that i can perform well and hopefully\n",
      "\n",
      "nothing goes to waste . I am the second line\n",
      "\n"
     ]
    }
   ],
   "source": [
    "file = open(r\"E:\\Python_Revision\\file\\test.txt\",\"rt\")\n",
    "print(file.read())\n",
    "file.close()"
   ]
  },
  {
   "cell_type": "code",
   "execution_count": 15,
   "id": "b1bb96b4-c2b1-4c1b-a84c-994aa1ac451d",
   "metadata": {},
   "outputs": [
    {
     "name": "stdout",
     "output_type": "stream",
     "text": [
      "Hi . I am here. and tryin got learn python , Databricks , delta lake , Apache airflow, yaml , Helm chart , Azure kubernetees cluster , so that i can perform well and hopefully\n",
      "\n",
      "['Hi . I am here. and tryin got learn python , Databricks , delta lake , Apache airflow, yaml , Helm chart , Azure kubernetees cluster , so that i can perform well and hopefully\\n', '\\n', 'nothing goes to waste . I am the second line\\n']\n"
     ]
    }
   ],
   "source": [
    "file1 = open(r\"E:\\Python_Revision\\file\\test.txt\",\"rt\")\n",
    "print(file1.readline())\n",
    "file1.close()\n",
    "\n",
    "file1 = open(r\"E:\\Python_Revision\\file\\test.txt\",\"rt\")\n",
    "print(file1.readlines())\n",
    "file1.close()"
   ]
  },
  {
   "cell_type": "markdown",
   "id": "2adbb044-1b6d-42c4-9f40-68e188f90340",
   "metadata": {},
   "source": [
    "## Write File"
   ]
  },
  {
   "cell_type": "markdown",
   "id": "c2870394-5459-408b-9e1e-70c3d786017a",
   "metadata": {},
   "source": [
    "## Creating and writing to a file"
   ]
  },
  {
   "cell_type": "code",
   "execution_count": 18,
   "id": "d83f26e0-39ce-42c7-b4d4-e898285635f9",
   "metadata": {},
   "outputs": [],
   "source": [
    "# creating and wirting to a new file.\n",
    "file = open(r\"E:\\Python_Revision\\file\\test1.txt\",\"wt\")\n",
    "file.write(\"Hellooooooooooooooooooooo world\")\n",
    "file.close()"
   ]
  },
  {
   "cell_type": "code",
   "execution_count": 27,
   "id": "e582a031-4c8c-4795-8df2-a1ca5cfca14a",
   "metadata": {},
   "outputs": [],
   "source": [
    "# overwriting the existing file.\n",
    "file = open(r\"E:\\Python_Revision\\file\\test1.txt\",\"wt\")\n",
    "file.write(\"Hellooooooooooooooooooooo you are over written \\n\")\n",
    "file.close()"
   ]
  },
  {
   "cell_type": "code",
   "execution_count": 30,
   "id": "cd9e749d-b8a8-4e16-85e3-89f3e76954b4",
   "metadata": {},
   "outputs": [],
   "source": [
    "#Appending the text to existing file\n",
    "file = open(r\"E:\\Python_Revision\\file\\test1.txt\",\"a\")\n",
    "file.write(\" Hopefully didnt over write the file and appended contents to it\")\n",
    "file.close()"
   ]
  },
  {
   "cell_type": "code",
   "execution_count": 31,
   "id": "a602d32d-465e-4a3c-8f52-15ea473e08a2",
   "metadata": {},
   "outputs": [],
   "source": [
    "# creating and wirting to a new file.\n",
    "file = open(r\"E:\\Python_Revision\\file\\brand_new.txt\",\"xt\")\n",
    "file.write(\"Hellooooooooooooooooooooo world\")\n",
    "file.close()"
   ]
  },
  {
   "cell_type": "code",
   "execution_count": 5,
   "id": "b18e24b5",
   "metadata": {},
   "outputs": [
    {
     "name": "stdout",
     "output_type": "stream",
     "text": [
      "test.txt\n",
      "test1.txt\n"
     ]
    }
   ],
   "source": [
    "import os\n",
    "\n",
    "diectory = r\"E:\\Python_Revision\\file\"\n",
    "\n",
    "for filename in os.listdir(diectory):\n",
    "    print(filename)"
   ]
  }
 ],
 "metadata": {
  "kernelspec": {
   "display_name": "Python 3 (ipykernel)",
   "language": "python",
   "name": "python3"
  },
  "language_info": {
   "codemirror_mode": {
    "name": "ipython",
    "version": 3
   },
   "file_extension": ".py",
   "mimetype": "text/x-python",
   "name": "python",
   "nbconvert_exporter": "python",
   "pygments_lexer": "ipython3",
   "version": "3.11.7"
  }
 },
 "nbformat": 4,
 "nbformat_minor": 5
}
